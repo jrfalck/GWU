{
 "cells": [
  {
   "cell_type": "code",
   "execution_count": 1,
   "id": "06a78605",
   "metadata": {},
   "outputs": [],
   "source": [
    "from sklearn.datasets import make_classification\n",
    "from sklearn.model_selection import train_test_split\n",
    "from sklearn.linear_model import LogisticRegression\n",
    "from sklearn.metrics import roc_curve, auc, accuracy_score\n",
    "import numpy as np\n",
    "import matplotlib.pyplot as plt"
   ]
  },
  {
   "cell_type": "code",
   "execution_count": 2,
   "id": "1fbcfc86",
   "metadata": {},
   "outputs": [],
   "source": [
    "#Generate a synthetic dataset\n",
    "X, y = make_classification(n_samples=1000, n_features=20, n_classes=2, random_state=42)\n",
    "\n",
    "#Split the dataset\n",
    "X_train, X_test, y_train, y_test = train_test_split(X, y, test_size=0.25, random_state=42)\n",
    "\n",
    "# Train a logistic regression model\n",
    "model = LogisticRegression(solver='liblinear')  # Using 'liblinear' for binary classification\n",
    "model.fit(X_train, y_train)\n",
    "\n",
    "# Predict probabilities for the positive class\n",
    "y_scores = model.predict_proba(X_test)[:, 1]  # Probability estimates for the positive class\n",
    "\n"
   ]
  },
  {
   "cell_type": "code",
   "execution_count": 3,
   "id": "ebe86ed5",
   "metadata": {},
   "outputs": [],
   "source": [
    "# Compute the ROC curve and AUC\n",
    "fpr, tpr, thresholds = roc_curve(y_test, y_scores)\n",
    "roc_auc = auc(fpr, tpr)\n",
    "\n",
    "# Find the optimal threshold\n",
    "optimal_idx = np.argmax(tpr - fpr)\n",
    "optimal_threshold = thresholds[optimal_idx]\n",
    "\n",
    "# Default threshold evaluation (0.5)\n",
    "default_predictions = (y_scores >= 0.5).astype(int)\n",
    "default_accuracy = accuracy_score(y_test, default_predictions)\n",
    "\n",
    "# Adjusted threshold evaluation\n",
    "adjusted_predictions = (y_scores >= optimal_threshold).astype(int)\n",
    "adjusted_accuracy = accuracy_score(y_test, adjusted_predictions)\n",
    "\n"
   ]
  },
  {
   "cell_type": "code",
   "execution_count": 4,
   "id": "3ce846bb",
   "metadata": {},
   "outputs": [
    {
     "data": {
      "image/png": "[encoded data removed]",
      "text/plain": [
       "<Figure size 720x432 with 1 Axes>"
      ]
     },
     "metadata": {
      "needs_background": "light"
     },
     "output_type": "display_data"
    },
    {
     "name": "stdout",
     "output_type": "stream",
     "text": [
      "Default Threshold (0.5) Accuracy: 0.852\n",
      "Optimal Threshold: 0.4090\n",
      "Accuracy with Optimal Threshold: 0.876\n"
     ]
    }
   ],
   "source": [
    "# Plot ROC curve\n",
    "plt.figure(figsize=(10, 6))\n",
    "plt.plot(fpr, tpr, label=f'ROC curve (area = {roc_auc:.2f})')\n",
    "plt.plot(fpr[optimal_idx], tpr[optimal_idx], marker='o', markersize=10, color='red', label='Optimal Threshold')\n",
    "plt.plot([0, 1], [0, 1], color='navy', linestyle='--')\n",
    "plt.xlim([-0.01, 1.01])  \n",
    "plt.ylim([0.0, 1.05])\n",
    "plt.xlabel('False Positive Rate')\n",
    "plt.ylabel('True Positive Rate')\n",
    "plt.title('Receiver Operating Characteristic')\n",
    "plt.legend(loc=\"lower right\")\n",
    "plt.show()\n",
    "\n",
    "# Print results\n",
    "print(f\"Default Threshold (0.5) Accuracy: {default_accuracy}\")\n",
    "print(f\"Optimal Threshold: {optimal_threshold:.4f}\")\n",
    "print(f\"Accuracy with Optimal Threshold: {adjusted_accuracy}\")\n"
   ]
  },
  {
   "cell_type": "code",
   "execution_count": 5,
   "id": "ed11d2b4",
   "metadata": {},
   "outputs": [
    {
     "data": {
      "text/plain": [
       "array([1.99980909, 0.99980909, 0.93473453, 0.93289682, 0.90642724,\n",
       "       0.90251575, 0.88934566, 0.88399842, 0.88007738, 0.87721963,\n",
       "       0.87709422, 0.87651085, 0.86968104, 0.86962254, 0.74820065,\n",
       "       0.74438827, 0.74432933, 0.7408773 , 0.68604124, 0.67611136,\n",
       "       0.55821632, 0.54535472, 0.52238733, 0.52111449, 0.49335655,\n",
       "       0.49230023, 0.49081371, 0.48678373, 0.47623223, 0.46663293,\n",
       "       0.43529977, 0.41312538, 0.40900535, 0.40771274, 0.40509507,\n",
       "       0.4043522 , 0.39561122, 0.35665381, 0.35408234, 0.3369371 ,\n",
       "       0.33460679, 0.29060672, 0.28216332, 0.27187163, 0.24957014,\n",
       "       0.21700849, 0.21580084, 0.21050967, 0.20504485, 0.18501869,\n",
       "       0.17405239, 0.13928046, 0.13719947, 0.13593898, 0.12809364,\n",
       "       0.11478955, 0.11060239, 0.10727065, 0.10347292, 0.05087753,\n",
       "       0.04831275, 0.01377322, 0.00777647, 0.00301289])"
      ]
     },
     "execution_count": 5,
     "metadata": {},
     "output_type": "execute_result"
    }
   ],
   "source": [
    "thresholds"
   ]
  },
  {
   "cell_type": "code",
   "execution_count": 6,
   "id": "7a5825d7",
   "metadata": {
    "scrolled": false
   },
   "outputs": [
    {
     "data": {
      "text/plain": [
       "array([0.5794832 , 0.85876723, 0.49081371, 0.86794727, 0.94769285,\n",
       "       0.06078263, 0.22168971, 0.81100592, 0.74438827, 0.3369371 ,\n",
       "       0.94966654, 0.55821632, 0.00437614, 0.45542272, 0.7408773 ,\n",
       "       0.18501869, 0.05959758, 0.94645934, 0.86968104, 0.48471455,\n",
       "       0.99237068, 0.22135747, 0.05087753, 0.09168696, 0.963247  ,\n",
       "       0.00685243, 0.99952387, 0.93289682, 0.0178007 , 0.966896  ,\n",
       "       0.87651085, 0.98633834, 0.53783887, 0.16117619, 0.29060672,\n",
       "       0.21700849, 0.06819356, 0.41312538, 0.05118299, 0.32672789,\n",
       "       0.01762771, 0.94381156, 0.07329451, 0.47623223, 0.47742958,\n",
       "       0.01145533, 0.9908637 , 0.00576811, 0.82833857, 0.98763461,\n",
       "       0.08024129, 0.09391968, 0.01701154, 0.99571315, 0.9956113 ,\n",
       "       0.67148975, 0.01808104, 0.10347292, 0.77637652, 0.17405239,\n",
       "       0.70193833, 0.10111815, 0.09985227, 0.99941111, 0.99907018,\n",
       "       0.0429905 , 0.98302079, 0.74432933, 0.70436077, 0.27187163,\n",
       "       0.10985121, 0.48678373, 0.40771274, 0.14202816, 0.12676314,\n",
       "       0.90642724, 0.14110655, 0.48229521, 0.91140774, 0.04154274,\n",
       "       0.0977559 , 0.22874616, 0.05141085, 0.99448352, 0.94335511,\n",
       "       0.66809796, 0.08715396, 0.01608541, 0.04462001, 0.49230023,\n",
       "       0.74820065, 0.00635351, 0.02529306, 0.07731807, 0.87721963,\n",
       "       0.13593898, 0.68604124, 0.27320742, 0.67482294, 0.33460679,\n",
       "       0.9934675 , 0.88007738, 0.03855656, 0.16909214, 0.97944177,\n",
       "       0.07296945, 0.93473453, 0.40509507, 0.06217472, 0.0030708 ,\n",
       "       0.15814393, 0.02875019, 0.11060239, 0.50036896, 0.12432101,\n",
       "       0.76976165, 0.75587237, 0.0528993 , 0.87709422, 0.21050967,\n",
       "       0.96695574, 0.99527879, 0.2361808 , 0.02744864, 0.99682639,\n",
       "       0.99519701, 0.83841525, 0.00777647, 0.28216332, 0.54535472,\n",
       "       0.00412732, 0.9496512 , 0.50184625, 0.00317733, 0.96279152,\n",
       "       0.96010394, 0.41074583, 0.9928141 , 0.05245285, 0.94773766,\n",
       "       0.32995746, 0.07642129, 0.99654952, 0.99980909, 0.12252284,\n",
       "       0.97095487, 0.96638559, 0.01458937, 0.23862611, 0.9393715 ,\n",
       "       0.89370004, 0.97781484, 0.46663293, 0.10902718, 0.96020499,\n",
       "       0.11487867, 0.95259473, 0.89176666, 0.03691972, 0.04831275,\n",
       "       0.4043522 , 0.98207151, 0.35408234, 0.20504485, 0.62617158,\n",
       "       0.35665381, 0.88934566, 0.75440121, 0.6912052 , 0.07130457,\n",
       "       0.03222868, 0.13719947, 0.52111449, 0.43529977, 0.12411991,\n",
       "       0.99755671, 0.54525129, 0.85860027, 0.99845522, 0.05214274,\n",
       "       0.93504304, 0.99806595, 0.00301289, 0.21580084, 0.88399842,\n",
       "       0.92415099, 0.04270834, 0.10727065, 0.19438848, 0.95136227,\n",
       "       0.30236977, 0.52238733, 0.01604391, 0.95949009, 0.98663535,\n",
       "       0.92836397, 0.99669473, 0.98792855, 0.21255844, 0.95962554,\n",
       "       0.986806  , 0.32449271, 0.97028642, 0.99607211, 0.04361928,\n",
       "       0.11478955, 0.99362151, 0.05914465, 0.07198141, 0.99087678,\n",
       "       0.98484836, 0.99925077, 0.85736887, 0.01377322, 0.94153817,\n",
       "       0.23302822, 0.86962254, 0.40900535, 0.98269728, 0.12362   ,\n",
       "       0.39561122, 0.248     , 0.13691419, 0.19922403, 0.22870724,\n",
       "       0.93018183, 0.97893941, 0.07389092, 0.83266071, 0.80362542,\n",
       "       0.90251575, 0.24957014, 0.03581638, 0.59771225, 0.718046  ,\n",
       "       0.49335655, 0.13928046, 0.60035562, 0.93729493, 0.90937659,\n",
       "       0.8243144 , 0.93847885, 0.97161599, 0.12397941, 0.97782141,\n",
       "       0.38433346, 0.67611136, 0.12809364, 0.02456057, 0.17105665])"
      ]
     },
     "execution_count": 6,
     "metadata": {},
     "output_type": "execute_result"
    }
   ],
   "source": [
    "y_scores"
   ]
  },
  {
   "cell_type": "code",
   "execution_count": null,
   "id": "92d506c1",
   "metadata": {},
   "outputs": [],
   "source": []
  }
 ],
 "metadata": {
  "kernelspec": {
   "display_name": "Python 3 (ipykernel)",
   "language": "python",
   "name": "python3"
  },
  "language_info": {
   "codemirror_mode": {
    "name": "ipython",
    "version": 3
   },
   "file_extension": ".py",
   "mimetype": "text/x-python",
   "name": "python",
   "nbconvert_exporter": "python",
   "pygments_lexer": "ipython3",
   "version": "3.8.13"
  }
 },
 "nbformat": 4,
 "nbformat_minor": 5
}
